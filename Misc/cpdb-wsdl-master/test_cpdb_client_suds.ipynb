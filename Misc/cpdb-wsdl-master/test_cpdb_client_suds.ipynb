{
 "metadata": {
  "name": ""
 },
 "nbformat": 3,
 "nbformat_minor": 0,
 "worksheets": [
  {
   "cells": [
    {
     "cell_type": "heading",
     "level": 1,
     "metadata": {},
     "source": [
      "Test the [ConsensusPathDB](http://cpdb.molgen.mpg.de/) [SOAP/WSDL API](http://cpdb.molgen.mpg.de/download/CPDB.wsdl)"
     ]
    },
    {
     "cell_type": "code",
     "collapsed": false,
     "input": [
      "import json\n",
      "\n",
      "from __future__ import print_function\n",
      "from suds.client import Client"
     ],
     "language": "python",
     "metadata": {},
     "outputs": [],
     "prompt_number": 1
    },
    {
     "cell_type": "code",
     "collapsed": false,
     "input": [
      "CONFIG = json.load(open(\"config.json\", \"r\"))"
     ],
     "language": "python",
     "metadata": {},
     "outputs": [],
     "prompt_number": 2
    },
    {
     "cell_type": "code",
     "collapsed": false,
     "input": [
      "CONFIG.keys()"
     ],
     "language": "python",
     "metadata": {},
     "outputs": [
      {
       "metadata": {},
       "output_type": "pyout",
       "prompt_number": 3,
       "text": [
        "[u'large_metabolite_set',\n",
        " u'small_gene_set_ids',\n",
        " u'valid_gene_func_types',\n",
        " u'small_gene_set',\n",
        " u'wsdl_url',\n",
        " u'valid_gene_acc_types',\n",
        " u'gene_func_descriptions',\n",
        " u'large_gene_set']"
       ]
      }
     ],
     "prompt_number": 3
    },
    {
     "cell_type": "code",
     "collapsed": false,
     "input": [
      "client = Client(CONFIG[\"wsdl_url\"])"
     ],
     "language": "python",
     "metadata": {},
     "outputs": [],
     "prompt_number": 4
    },
    {
     "cell_type": "code",
     "collapsed": false,
     "input": [
      "print(client)"
     ],
     "language": "python",
     "metadata": {},
     "outputs": [
      {
       "output_type": "stream",
       "stream": "stdout",
       "text": [
        "\n",
        "Suds ( https://fedorahosted.org/suds/ )  version: 0.6\n",
        "\n",
        "Service ( cpdb ) tns=\"cpdbns\"\n",
        "   Prefixes (0)\n",
        "   Ports (1):\n",
        "      (cpdb_port)\n",
        "         Methods (8):\n",
        "            enrichmentAnalysis(xs:string entityType, xs:string fsetType, xs:string[] cpdbIdsMeasurements, xs:float pThreshold)\n",
        "            getAvailableAccessionTypes(xs:string entityType)\n",
        "            getAvailableFsetTypes(xs:string entityType)\n",
        "            getCpdbIdsInFset(xs:string fsetId, xs:string fsetType, xs:string entsetType)\n",
        "            getCpdbVersion()\n",
        "            getDefaultBackgroundSize(xs:string fsetType, xs:string accType)\n",
        "            mapAccessionNumbers(xs:string accType, xs:string[] accNumbers)\n",
        "            overRepresentationAnalysis(xs:string entityType, xs:string fsetType, xs:string[] cpdbIdsFg, xs:string[] cpdbIdsBg, xs:string accType, xs:float pThreshold)\n",
        "         Types (0):\n",
        "\n",
        "\n"
       ]
      }
     ],
     "prompt_number": 5
    },
    {
     "cell_type": "heading",
     "level": 2,
     "metadata": {},
     "source": [
      "Test Version"
     ]
    },
    {
     "cell_type": "code",
     "collapsed": false,
     "input": [
      "client.service.getCpdbVersion()"
     ],
     "language": "python",
     "metadata": {},
     "outputs": [
      {
       "metadata": {},
       "output_type": "pyout",
       "prompt_number": 6,
       "text": [
        "cpdb28"
       ]
      }
     ],
     "prompt_number": 6
    },
    {
     "cell_type": "heading",
     "level": 2,
     "metadata": {},
     "source": [
      "Test Accession Types"
     ]
    },
    {
     "cell_type": "code",
     "collapsed": false,
     "input": [
      "response = client.service.getAvailableAccessionTypes(\"genes\")\n",
      "response"
     ],
     "language": "python",
     "metadata": {},
     "outputs": [
      {
       "metadata": {},
       "output_type": "pyout",
       "prompt_number": 7,
       "text": [
        "[sgd-symbol,\n",
        " hgnc-id,\n",
        " sgd-id,\n",
        " entrez-gi,\n",
        " humancyc,\n",
        " intact,\n",
        " unigene,\n",
        " cygd,\n",
        " entrez-gene,\n",
        " hprd,\n",
        " mgi-symbol,\n",
        " mgi-id,\n",
        " hgnc-symbol,\n",
        " refseq,\n",
        " uniprot,\n",
        " ensembl,\n",
        " reactome,\n",
        " dip,\n",
        " pdb]"
       ]
      }
     ],
     "prompt_number": 7
    },
    {
     "cell_type": "code",
     "collapsed": false,
     "input": [
      "valid_types = frozenset(CONFIG[\"valid_gene_acc_types\"])\n",
      "all(gene_types in valid_types for gene_types in response)"
     ],
     "language": "python",
     "metadata": {},
     "outputs": [
      {
       "metadata": {},
       "output_type": "pyout",
       "prompt_number": 8,
       "text": [
        "True"
       ]
      }
     ],
     "prompt_number": 8
    },
    {
     "cell_type": "heading",
     "level": 2,
     "metadata": {},
     "source": [
      "Test Functional Types"
     ]
    },
    {
     "cell_type": "code",
     "collapsed": false,
     "input": [
      "response = client.service.getAvailableFsetTypes(\"genes\")\n",
      "response"
     ],
     "language": "python",
     "metadata": {},
     "outputs": [
      {
       "metadata": {},
       "output_type": "pyout",
       "prompt_number": 9,
       "text": [
        "(reply){\n",
        "   fsetType[] = \n",
        "      \"P\",\n",
        "      \"N\",\n",
        "      \"G2\",\n",
        "      \"G3\",\n",
        "      \"G4\",\n",
        "      \"G5\",\n",
        "      \"C\",\n",
        "   description[] = \n",
        "      \"manually curated pathways from pathway databases\",\n",
        "      \"interaction network neighborhood-based functional sets\",\n",
        "      \"Gene Ontology-based sets, GO level 2\",\n",
        "      \"Gene Ontology-based sets, GO level 3\",\n",
        "      \"Gene Ontology-based sets, GO level 4\",\n",
        "      \"Gene Ontology-based sets, GO level 5\",\n",
        "      \"protein complex-based sets\",\n",
        " }"
       ]
      }
     ],
     "prompt_number": 9
    },
    {
     "cell_type": "code",
     "collapsed": false,
     "input": [
      "valid_types = CONFIG[\"valid_gene_func_types\"]\n",
      "valid_descriptions = CONFIG[\"gene_func_descriptions\"]\n",
      "result = zip(response[\"fsetType\"], response[\"description\"])\n",
      "all(valid_types.index(pair[0]) == valid_descriptions.index(pair[1]) for pair in result)"
     ],
     "language": "python",
     "metadata": {},
     "outputs": [
      {
       "metadata": {},
       "output_type": "pyout",
       "prompt_number": 10,
       "text": [
        "True"
       ]
      }
     ],
     "prompt_number": 10
    },
    {
     "cell_type": "heading",
     "level": 2,
     "metadata": {},
     "source": [
      "Test Accession Map"
     ]
    },
    {
     "cell_type": "code",
     "collapsed": false,
     "input": [
      "response = client.service.mapAccessionNumbers(\"uniprot\", CONFIG[\"small_gene_set\"])\n",
      "response"
     ],
     "language": "python",
     "metadata": {},
     "outputs": [
      {
       "metadata": {},
       "output_type": "pyout",
       "prompt_number": 11,
       "text": [
        "(reply){\n",
        "   accNumber[] = \n",
        "      \"DLDH_HUMAN\",\n",
        "      \"MDHC_HUMAN\",\n",
        "      \"MDHM_HUMAN\",\n",
        "   cpdbId[] = \n",
        "      \"entrez-gene:1738\",\n",
        "      \"entrez-gene:4190\",\n",
        "      \"entrez-gene:4191\",\n",
        " }"
       ]
      }
     ],
     "prompt_number": 11
    },
    {
     "cell_type": "code",
     "collapsed": false,
     "input": [
      "valid_numbers = CONFIG[\"small_gene_set\"]\n",
      "valid_ids = CONFIG[\"small_gene_set_ids\"]\n",
      "result = zip(response[\"accNumber\"], response[\"cpdbId\"])\n",
      "all(valid_numbers.index(pair[0]) == valid_ids.index(pair[1]) for pair in result)"
     ],
     "language": "python",
     "metadata": {},
     "outputs": [
      {
       "metadata": {},
       "output_type": "pyout",
       "prompt_number": 12,
       "text": [
        "True"
       ]
      }
     ],
     "prompt_number": 12
    },
    {
     "cell_type": "heading",
     "level": 2,
     "metadata": {},
     "source": [
      "Test Default Background"
     ]
    },
    {
     "cell_type": "code",
     "collapsed": false,
     "input": [
      "response = client.service.getDefaultBackgroundSize(\"P\", \"uniprot\")\n",
      "response"
     ],
     "language": "python",
     "metadata": {},
     "outputs": [
      {
       "metadata": {},
       "output_type": "pyout",
       "prompt_number": 13,
       "text": [
        "10205"
       ]
      }
     ],
     "prompt_number": 13
    },
    {
     "cell_type": "code",
     "collapsed": false,
     "input": [
      "int(response) == 10205"
     ],
     "language": "python",
     "metadata": {},
     "outputs": [
      {
       "metadata": {},
       "output_type": "pyout",
       "prompt_number": 14,
       "text": [
        "True"
       ]
      }
     ],
     "prompt_number": 14
    },
    {
     "cell_type": "heading",
     "level": 2,
     "metadata": {},
     "source": [
      "Test CPDB ID in Functional Set"
     ]
    },
    {
     "cell_type": "code",
     "collapsed": false,
     "input": [
      "response = client.service.getCpdbIdsInFset(90664, \"P\", \"metabolites\")\n",
      "response"
     ],
     "language": "python",
     "metadata": {},
     "outputs": [
      {
       "metadata": {},
       "output_type": "pyout",
       "prompt_number": 15,
       "text": [
        "[]"
       ]
      }
     ],
     "prompt_number": 15
    },
    {
     "cell_type": "heading",
     "level": 2,
     "metadata": {},
     "source": [
      "Test Over-Representation"
     ]
    },
    {
     "cell_type": "heading",
     "level": 3,
     "metadata": {},
     "source": [
      "Genes"
     ]
    },
    {
     "cell_type": "code",
     "collapsed": false,
     "input": [
      "response = client.service.mapAccessionNumbers(\"uniprot\", CONFIG[\"large_gene_set\"])\n",
      "cpdb_ids = [str(num) for num in response[\"cpdbId\"] if num is not None]\n",
      "response = client.service.overRepresentationAnalysis(\"genes\", \"C\", cpdb_ids, [], \"uniprot\", 1.0)\n",
      "[attr for attr in dir(response) if not attr.startswith(\"_\")]"
     ],
     "language": "python",
     "metadata": {},
     "outputs": [
      {
       "metadata": {},
       "output_type": "pyout",
       "prompt_number": 16,
       "text": [
        "['allEntitiesNum',\n",
        " 'details',\n",
        " 'name',\n",
        " 'overlappingEntitiesNum',\n",
        " 'pValue',\n",
        " 'qValue']"
       ]
      }
     ],
     "prompt_number": 16
    },
    {
     "cell_type": "code",
     "collapsed": false,
     "input": [
      "result = zip(response[\"name\"], response[\"details\"], response[\"overlappingEntitiesNum\"],\n",
      "             response[\"allEntitiesNum\"], response[\"pValue\"], response[\"qValue\"])\n",
      "for multi in result[:5]:\n",
      "    print(\"\\t\".join(multi))"
     ],
     "language": "python",
     "metadata": {},
     "outputs": [
      {
       "output_type": "stream",
       "stream": "stdout",
       "text": [
        "Succinate dehydrogenase complex (oxidised)\tfsetId:58644;;CPDBurl:http://cpdb.molgen.mpg.de/CPDB/visualizeSet?fsetType=C&fsetId=58644\t4\t4 (4)\t1.53e-11\t9.15e-11\n",
        "alpha-ketoglutarate dehydrogenase complex\tfsetId:58593;;CPDBurl:http://cpdb.molgen.mpg.de/CPDB/visualizeSet?fsetType=C&fsetId=58593\t3\t3 (3)\t8.58e-09\t1.72e-08\n",
        "IDH3 complex\tfsetId:24233;;CPDBurl:http://cpdb.molgen.mpg.de/CPDB/visualizeSet?fsetType=C&fsetId=24233\t3\t3 (3)\t8.58e-09\t1.72e-08\n",
        "Succinate dehydrogenase\tfsetId:121513;;CPDBurl:http://cpdb.molgen.mpg.de/CPDB/visualizeSet?fsetType=C&fsetId=121513\t2\t2 (2)\t4.48e-06\t4.48e-06\n",
        "Succinate dehydrogenase cytochrome <i>b</i>\tfsetId:121508;;CPDBurl:http://cpdb.molgen.mpg.de/CPDB/visualizeSet?fsetType=C&fsetId=121508\t2\t2 (2)\t4.48e-06\t4.48e-06\n"
       ]
      }
     ],
     "prompt_number": 17
    },
    {
     "cell_type": "heading",
     "level": 3,
     "metadata": {},
     "source": [
      "Metabolites"
     ]
    },
    {
     "cell_type": "code",
     "collapsed": false,
     "input": [
      "response = client.service.mapAccessionNumbers(\"kegg\", CONFIG[\"large_metabolite_set\"])\n",
      "cpdb_ids = [str(num) for num in response[\"cpdbId\"] if num is not None]\n",
      "response = client.service.overRepresentationAnalysis(\"metabolites\", \"P\", cpdb_ids, [], \"kegg\", 0.05)\n",
      "[attr for attr in dir(response) if not attr.startswith(\"_\")]"
     ],
     "language": "python",
     "metadata": {},
     "outputs": [
      {
       "metadata": {},
       "output_type": "pyout",
       "prompt_number": 18,
       "text": [
        "['allEntitiesNum',\n",
        " 'details',\n",
        " 'name',\n",
        " 'overlappingEntitiesNum',\n",
        " 'pValue',\n",
        " 'qValue']"
       ]
      }
     ],
     "prompt_number": 18
    },
    {
     "cell_type": "code",
     "collapsed": false,
     "input": [
      "result = zip(response[\"name\"], response[\"details\"], response[\"overlappingEntitiesNum\"],\n",
      "             response[\"allEntitiesNum\"], response[\"pValue\"], response[\"qValue\"])\n",
      "for multi in result[:5]:\n",
      "    print(\"\\t\".join(multi))"
     ],
     "language": "python",
     "metadata": {},
     "outputs": [
      {
       "output_type": "stream",
       "stream": "stdout",
       "text": [
        "TCA cycle (HumanCyc)\tfsetId:121574;;CPDBurl:http://cpdb.molgen.mpg.de/CPDB/visualizeSet?fsetType=P&fsetId=121574;;url:http://biocyc.org/HUMAN/NEW-IMAGE?type=NIL&object=PWY66-398;;pmids:16747930;16746585\t18\t22 (24)\t1.92e-44\t4.11e-41\n",
        "conversion of glucose to acetyl CoA and entry into the TCA cycle (HumanCyc)\tfsetId:129204;;CPDBurl:http://cpdb.molgen.mpg.de/CPDB/visualizeSet?fsetType=P&fsetId=129204;;url:http://biocyc.org/HUMAN/NEW-IMAGE?type=NIL&object=PWY66-407\t18\t35 (37)\t1.19e-38\t1.14e-35\n",
        "Citric acid cycle (TCA cycle) (PID)\tfsetId:260579;;CPDBurl:http://cpdb.molgen.mpg.de/CPDB/visualizeSet?fsetType=P&fsetId=260579;;url:http://pid.nci.nih.gov/search/pathway_landing.shtml?pathway_id=Citric_acid_cycle__TCA_cycle_&source=NCI-Nature%20curated&what=graphic&jpg=on\t17\t26 (26)\t1.59e-38\t1.14e-35\n",
        "Citric acid cycle (TCA cycle) (Reactome)\tfsetId:58679;;CPDBurl:http://cpdb.molgen.mpg.de/CPDB/visualizeSet?fsetType=P&fsetId=58679;;url:http://www.reactome.org/cgi-bin/link?SOURCE=Reactome&ID=REACT_1785;;pmids:16746585;6773467;16747180\t17\t27 (27)\t4.3e-38\t2.3e-35\n",
        "TCA Cycle (Wikipathways)\tfsetId:2534662;;CPDBurl:http://cpdb.molgen.mpg.de/CPDB/visualizeSet?fsetType=P&fsetId=2534662;;url:http://www.wikipathways.org/index.php/Pathway:WP78;;pmids:15234968;7730304;7060582;9765290;8187868;3052428;3724458;7730305;12234803;8506365;10672230;13018271;7961626;949837\t16\t23 (24)\t1.63e-36\t5.14e-34\n"
       ]
      }
     ],
     "prompt_number": 19
    },
    {
     "cell_type": "heading",
     "level": 2,
     "metadata": {},
     "source": [
      "Test Enrichment"
     ]
    },
    {
     "cell_type": "code",
     "collapsed": false,
     "input": [
      "import random"
     ],
     "language": "python",
     "metadata": {},
     "outputs": [],
     "prompt_number": 20
    },
    {
     "cell_type": "code",
     "collapsed": false,
     "input": [
      "response = client.service.mapAccessionNumbers(\"uniprot\", CONFIG[\"large_gene_set\"])\n",
      "cpdb_ids = [\"%s %G %G\" % (str(num), random.gauss(0.0, 1.0), random.gauss(2.0, 1.0)) for num in response[\"cpdbId\"] if num is not None]\n",
      "response = client.service.enrichmentAnalysis(\"genes\", \"C\", cpdb_ids, 1.0)\n",
      "[attr for attr in dir(response) if not attr.startswith(\"_\")]"
     ],
     "language": "python",
     "metadata": {},
     "outputs": [
      {
       "metadata": {},
       "output_type": "pyout",
       "prompt_number": 21,
       "text": [
        "['allEntitiesNum',\n",
        " 'details',\n",
        " 'measuredEntitiesNum',\n",
        " 'name',\n",
        " 'pValue',\n",
        " 'qValue']"
       ]
      }
     ],
     "prompt_number": 21
    },
    {
     "cell_type": "code",
     "collapsed": false,
     "input": [
      "result = zip(response[\"name\"], response[\"details\"], response[\"measuredEntitiesNum\"],\n",
      "             response[\"allEntitiesNum\"], response[\"pValue\"], response[\"qValue\"])\n",
      "for multi in result[:5]:\n",
      "    print(\"\\t\".join(multi))"
     ],
     "language": "python",
     "metadata": {},
     "outputs": [
      {
       "output_type": "stream",
       "stream": "stdout",
       "text": [
        "Succinate dehydrogenase complex (oxidised)\tfsetId:58644;;CPDBurl:http://cpdb.molgen.mpg.de/CPDB/visualizeSet?fsetType=C&fsetId=58644\t4\t4\t0.125\t0.5\n",
        "alpha-ketoglutarate dehydrogenase complex\tfsetId:58593;;CPDBurl:http://cpdb.molgen.mpg.de/CPDB/visualizeSet?fsetType=C&fsetId=58593\t3\t3\t0.25\t0.5\n",
        "IDH3 complex\tfsetId:24233;;CPDBurl:http://cpdb.molgen.mpg.de/CPDB/visualizeSet?fsetType=C&fsetId=24233\t3\t3\t0.25\t0.5\n",
        "Succinate dehydrogenase\tfsetId:121513;;CPDBurl:http://cpdb.molgen.mpg.de/CPDB/visualizeSet?fsetType=C&fsetId=121513\t2\t2\t0.5\t0.5\n",
        "Succinate dehydrogenase cytochrome <i>b</i>\tfsetId:121508;;CPDBurl:http://cpdb.molgen.mpg.de/CPDB/visualizeSet?fsetType=C&fsetId=121508\t2\t2\t0.5\t0.5\n"
       ]
      }
     ],
     "prompt_number": 22
    }
   ],
   "metadata": {}
  }
 ]
}